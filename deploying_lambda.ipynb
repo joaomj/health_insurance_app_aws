{
 "cells": [
  {
   "cell_type": "markdown",
   "metadata": {},
   "source": [
    "# 1. Storing data on the cloud"
   ]
  },
  {
   "cell_type": "markdown",
   "metadata": {},
   "source": [
    "## 1.1. Initialize S3 Bucket\n",
    "\n",
    "The S3 bucket will host our test_features data set which we can call in our lambda function to perform a prediction."
   ]
  },
  {
   "cell_type": "code",
   "execution_count": null,
   "metadata": {},
   "outputs": [],
   "source": [
    "# Initizalize S3 Bucket:\n",
    "\n",
    "import boto3\n",
    "\n",
    "def create_bucket(region:str, bucket_name:str) -> dict:\n",
    "\n",
    "    s3 = boto3.client('s3')\n",
    "    response = s3.create_bucket(\n",
    "        Bucket = bucket_name,\n",
    "        # CreateBucketConfiguration = {\n",
    "        #     'LocationConstraint':region\n",
    "        # }\n",
    "        # not needed when your region is default (us-east-1)\n",
    "    )\n",
    "\n",
    "    return response\n",
    "\n",
    "region = 'us-east-1'\n",
    "bucket_name = 'joaomj-lambda-buckets-2022'\n",
    "\n",
    "create_bucket(region, bucket_name)"
   ]
  },
  {
   "cell_type": "markdown",
   "metadata": {},
   "source": [
    "## 1.2. Upload test data to S3 Bucket"
   ]
  },
  {
   "cell_type": "code",
   "execution_count": null,
   "metadata": {},
   "outputs": [],
   "source": [
    "from io import BytesIO\n",
    "import joblib\n",
    "import boto3\n",
    "import pandas as pd\n",
    "\n",
    "def UploadToS3(data, bucket:str, key:str):\n",
    "\n",
    "    # Temporary store the dataset in a file object\n",
    "    # This file object will be uploaded onto a S3 bucket by calling the .upload_fileobj function\n",
    "    with BytesIO() as f:\n",
    "        joblib.dump(data, f) #\n",
    "        f.seek(0)\n",
    "        (\n",
    "            boto3\n",
    "            .client('s3')\n",
    "            .upload_fileobj(Bucket = bucket, Key = key, Fileobj = f)\n",
    "        )\n",
    "\n",
    "\n",
    "# loading dataset\n",
    "df_test = pd.read_csv('./app/test_dataset.csv')\n",
    "\n",
    "bucket_name = 'joaomj-lambda-buckets-2022'\n",
    "key = 'validation/df_test.joblib'\n",
    "\n",
    "UploadToS3(df_test, bucket_name, key)"
   ]
  },
  {
   "cell_type": "markdown",
   "metadata": {},
   "source": [
    "## 1.3. List objects in the S3 Bucket\n",
    "\n",
    "Check if the data was correctly stored in the S3 Bucket."
   ]
  },
  {
   "cell_type": "code",
   "execution_count": null,
   "metadata": {},
   "outputs": [],
   "source": [
    "import boto3\n",
    "\n",
    "def listS3objects(bucket:str) -> list:\n",
    "\n",
    "    # connect to S3 resource\n",
    "    s3 = boto3.resource('s3')\n",
    "    my_bucket = s3.Bucket(bucket)\n",
    "\n",
    "    # list all object keys in S3 bucket\n",
    "    # obj_list = [object_summary.key for object_summary in my_bucket.objects.all()]\n",
    "\n",
    "    for object_summary in my_bucket.objects.all():\n",
    "        obj_list = [object_summary.key]\n",
    "\n",
    "    return obj_list\n",
    "\n",
    "print(listS3objects('joaomj-lambda-buckets-2022'))"
   ]
  },
  {
   "cell_type": "markdown",
   "metadata": {},
   "source": [
    "# 2. Deploying Lambda Function"
   ]
  },
  {
   "cell_type": "markdown",
   "metadata": {},
   "source": [
    "# 2.1. Locally"
   ]
  },
  {
   "cell_type": "code",
   "execution_count": 1,
   "metadata": {},
   "outputs": [
    {
     "data": {
      "text/plain": [
       "array([['43790', 'Female', '25', ..., '31559.0', '116', '1.0'],\n",
       "       ['227205', 'Female', '24', ..., '27473.0', '66', '1.0'],\n",
       "       ['14595', 'Male', '51', ..., '32497.0', '216', '1.0'],\n",
       "       ...,\n",
       "       ['37661', 'Male', '26', ..., '30419.0', '14', '1.0'],\n",
       "       ['176658', 'Female', '22', ..., '36345.0', '281', '1.0'],\n",
       "       ['234987', 'Female', '27', ..., '41482.0', '119', '1.0']],\n",
       "      dtype='<U32')"
      ]
     },
     "execution_count": 1,
     "metadata": {},
     "output_type": "execute_result"
    }
   ],
   "source": [
    "import requests\n",
    "import json\n",
    "import numpy as np\n",
    "\n",
    "bucket_name = 'joaomj-lambda-buckets-2022'\n",
    "key =  'validation/df_test.joblib'\n",
    "percentage = 0.4\n",
    "\n",
    "data = {\n",
    "    'bucket':bucket_name,\n",
    "    'key':key,\n",
    "    'percentage':percentage,\n",
    "}\n",
    "\n",
    "headers = {\n",
    "    'Content-type': \"application/json\"\n",
    "}\n",
    "\n",
    "# Main code for post HTTP request\n",
    "url = \"http://127.0.0.1:3000/predict\"\n",
    "response = requests.request(\"POST\", url, headers=headers, data=json.dumps(data))\n",
    "\n",
    "# Show confusion matrix and display accuracy\n",
    "lambda_predictions = np.array(response.json())\n",
    "lambda_predictions"
   ]
  },
  {
   "cell_type": "code",
   "execution_count": null,
   "metadata": {},
   "outputs": [],
   "source": [
    "# viewing the response\n",
    "import pandas as pd\n",
    "\n",
    "#resp = pd.read_json(lambda_predictions['body'])\n",
    "\n",
    "columns = [    \n",
    "    'id', \n",
    "    'gender', \n",
    "    'age',\n",
    "    'region_code',\n",
    "    'policy_sales_channel',\n",
    "    'driving_license',\n",
    "    'vehicle_age',\n",
    "    'vehicle_damage',\n",
    "    'previously_insured',\n",
    "    'annual_premium',\n",
    "    'vintage',\n",
    "    'score'\n",
    "    ]\n",
    "df = pd.DataFrame(lambda_predictions, columns = columns)"
   ]
  },
  {
   "cell_type": "code",
   "execution_count": 7,
   "metadata": {},
   "outputs": [
    {
     "data": {
      "text/html": [
       "<div>\n",
       "<style scoped>\n",
       "    .dataframe tbody tr th:only-of-type {\n",
       "        vertical-align: middle;\n",
       "    }\n",
       "\n",
       "    .dataframe tbody tr th {\n",
       "        vertical-align: top;\n",
       "    }\n",
       "\n",
       "    .dataframe thead th {\n",
       "        text-align: right;\n",
       "    }\n",
       "</style>\n",
       "<table border=\"1\" class=\"dataframe\">\n",
       "  <thead>\n",
       "    <tr style=\"text-align: right;\">\n",
       "      <th></th>\n",
       "      <th>id</th>\n",
       "      <th>gender</th>\n",
       "      <th>age</th>\n",
       "      <th>region_code</th>\n",
       "      <th>policy_sales_channel</th>\n",
       "      <th>driving_license</th>\n",
       "      <th>vehicle_age</th>\n",
       "      <th>vehicle_damage</th>\n",
       "      <th>previously_insured</th>\n",
       "      <th>annual_premium</th>\n",
       "      <th>vintage</th>\n",
       "      <th>score</th>\n",
       "    </tr>\n",
       "  </thead>\n",
       "  <tbody>\n",
       "    <tr>\n",
       "      <th>0</th>\n",
       "      <td>43790</td>\n",
       "      <td>Female</td>\n",
       "      <td>25</td>\n",
       "      <td>50</td>\n",
       "      <td>152</td>\n",
       "      <td>1</td>\n",
       "      <td>New</td>\n",
       "      <td>0</td>\n",
       "      <td>0</td>\n",
       "      <td>31559.0</td>\n",
       "      <td>116</td>\n",
       "      <td>1.0</td>\n",
       "    </tr>\n",
       "    <tr>\n",
       "      <th>1</th>\n",
       "      <td>227205</td>\n",
       "      <td>Female</td>\n",
       "      <td>24</td>\n",
       "      <td>18</td>\n",
       "      <td>152</td>\n",
       "      <td>1</td>\n",
       "      <td>New</td>\n",
       "      <td>0</td>\n",
       "      <td>1</td>\n",
       "      <td>27473.0</td>\n",
       "      <td>66</td>\n",
       "      <td>1.0</td>\n",
       "    </tr>\n",
       "    <tr>\n",
       "      <th>2</th>\n",
       "      <td>14595</td>\n",
       "      <td>Male</td>\n",
       "      <td>51</td>\n",
       "      <td>47</td>\n",
       "      <td>113</td>\n",
       "      <td>1</td>\n",
       "      <td>Average</td>\n",
       "      <td>0</td>\n",
       "      <td>1</td>\n",
       "      <td>32497.0</td>\n",
       "      <td>216</td>\n",
       "      <td>1.0</td>\n",
       "    </tr>\n",
       "    <tr>\n",
       "      <th>3</th>\n",
       "      <td>35188</td>\n",
       "      <td>Female</td>\n",
       "      <td>31</td>\n",
       "      <td>18</td>\n",
       "      <td>152</td>\n",
       "      <td>1</td>\n",
       "      <td>New</td>\n",
       "      <td>0</td>\n",
       "      <td>1</td>\n",
       "      <td>24021.0</td>\n",
       "      <td>205</td>\n",
       "      <td>1.0</td>\n",
       "    </tr>\n",
       "    <tr>\n",
       "      <th>4</th>\n",
       "      <td>11138</td>\n",
       "      <td>Male</td>\n",
       "      <td>27</td>\n",
       "      <td>46</td>\n",
       "      <td>152</td>\n",
       "      <td>1</td>\n",
       "      <td>New</td>\n",
       "      <td>0</td>\n",
       "      <td>1</td>\n",
       "      <td>27043.0</td>\n",
       "      <td>163</td>\n",
       "      <td>1.0</td>\n",
       "    </tr>\n",
       "  </tbody>\n",
       "</table>\n",
       "</div>"
      ],
      "text/plain": [
       "       id  gender age region_code policy_sales_channel driving_license  \\\n",
       "0   43790  Female  25          50                  152               1   \n",
       "1  227205  Female  24          18                  152               1   \n",
       "2   14595    Male  51          47                  113               1   \n",
       "3   35188  Female  31          18                  152               1   \n",
       "4   11138    Male  27          46                  152               1   \n",
       "\n",
       "  vehicle_age vehicle_damage previously_insured annual_premium vintage score  \n",
       "0         New              0                  0        31559.0     116   1.0  \n",
       "1         New              0                  1        27473.0      66   1.0  \n",
       "2     Average              0                  1        32497.0     216   1.0  \n",
       "3         New              0                  1        24021.0     205   1.0  \n",
       "4         New              0                  1        27043.0     163   1.0  "
      ]
     },
     "execution_count": 7,
     "metadata": {},
     "output_type": "execute_result"
    }
   ],
   "source": [
    "df.head()"
   ]
  }
 ],
 "metadata": {
  "interpreter": {
   "hash": "a0dd1c37d6772565b5e1c394f17c75b28ab2ecda7f674e6a4f1dc13cbe97ea4f"
  },
  "kernelspec": {
   "display_name": "Python 3.10.0 64-bit ('venv-aws-deploy')",
   "language": "python",
   "name": "python3"
  },
  "language_info": {
   "codemirror_mode": {
    "name": "ipython",
    "version": 3
   },
   "file_extension": ".py",
   "mimetype": "text/x-python",
   "name": "python",
   "nbconvert_exporter": "python",
   "pygments_lexer": "ipython3",
   "version": "3.10.0"
  },
  "orig_nbformat": 4
 },
 "nbformat": 4,
 "nbformat_minor": 2
}
