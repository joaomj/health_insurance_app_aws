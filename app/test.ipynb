{
 "cells": [
  {
   "cell_type": "code",
   "execution_count": 1,
   "metadata": {},
   "outputs": [],
   "source": [
    "import pickle"
   ]
  },
  {
   "cell_type": "code",
   "execution_count": 3,
   "metadata": {},
   "outputs": [],
   "source": [
    "# annual_premium_scaler = pickle.load(open('./features/annual_premium_scaler.pkl', 'rb'))\n",
    "\n",
    "annual_premium_scaler = pickle.load(open('./healthinsurance/features/annual_premium_scaler.pkl', 'rb'))"
   ]
  },
  {
   "cell_type": "code",
   "execution_count": 3,
   "metadata": {},
   "outputs": [],
   "source": [
    "path = 'features/annual_premium_scaler.pkl'\n",
    "\n",
    "scaler = pickle.load(open(path, 'rb'))"
   ]
  },
  {
   "cell_type": "code",
   "execution_count": 4,
   "metadata": {},
   "outputs": [],
   "source": [
    "path = 'features/age_scaler.pkl'\n",
    "scaler = pickle.load(open(path, 'rb'))"
   ]
  },
  {
   "cell_type": "code",
   "execution_count": 5,
   "metadata": {},
   "outputs": [],
   "source": [
    "path = 'features/frequency_encoder_policy_sales_scaler.pkl'\n",
    "scaler = pickle.load(open(path, 'rb'))"
   ]
  },
  {
   "cell_type": "code",
   "execution_count": 6,
   "metadata": {},
   "outputs": [],
   "source": [
    "path = 'features/target_encoder_gender_scaler.pkl'\n",
    "scaler = pickle.load(open(path, 'rb'))"
   ]
  },
  {
   "cell_type": "code",
   "execution_count": 7,
   "metadata": {},
   "outputs": [],
   "source": [
    "path = 'features/target_encoder_region_code_scaler.pkl'\n",
    "scaler = pickle.load(open(path, 'rb'))"
   ]
  },
  {
   "cell_type": "code",
   "execution_count": 8,
   "metadata": {},
   "outputs": [],
   "source": [
    "path = 'features/vintage_scaler.pkl'\n",
    "scaler = pickle.load(open(path, 'rb'))"
   ]
  }
 ],
 "metadata": {
  "interpreter": {
   "hash": "a0dd1c37d6772565b5e1c394f17c75b28ab2ecda7f674e6a4f1dc13cbe97ea4f"
  },
  "kernelspec": {
   "display_name": "Python 3.10.0 64-bit ('venv-aws-deploy')",
   "language": "python",
   "name": "python3"
  },
  "language_info": {
   "codemirror_mode": {
    "name": "ipython",
    "version": 3
   },
   "file_extension": ".py",
   "mimetype": "text/x-python",
   "name": "python",
   "nbconvert_exporter": "python",
   "pygments_lexer": "ipython3",
   "version": "3.10.0"
  },
  "orig_nbformat": 4
 },
 "nbformat": 4,
 "nbformat_minor": 2
}
