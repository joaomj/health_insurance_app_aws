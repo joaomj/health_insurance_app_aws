{
 "cells": [
  {
   "cell_type": "code",
   "execution_count": 1,
   "metadata": {},
   "outputs": [],
   "source": [
    "from io import BytesIO\n",
    "import json\n",
    "import boto3\n",
    "import joblib\n",
    "import logging\n",
    "import pickle\n",
    "from healthinsurance.HealthInsurance import HealthInsurance"
   ]
  },
  {
   "cell_type": "code",
   "execution_count": 2,
   "metadata": {},
   "outputs": [],
   "source": [
    "# Define logger class\n",
    "logger = logging.getLogger()\n",
    "logger.setLevel(logging.INFO)\n",
    "\n",
    "# Helper Function to download object from S3 Bucket\n",
    "def DownloadFromS3(bucket:str, key:str):\n",
    "    s3 = boto3.client('s3')\n",
    "\n",
    "    with BytesIO() as f:\n",
    "        s3.download_fileobj(Bucket = bucket, Key = key, Fileobj = f)\n",
    "        f.seek(0)\n",
    "        df_test = joblib.load(f)\n",
    "    \n",
    "    return df_test"
   ]
  },
  {
   "cell_type": "code",
   "execution_count": 3,
   "metadata": {},
   "outputs": [],
   "source": [
    "# Load model into memory\n",
    "logger.info('Loading model from file...')\n",
    "\n",
    "model = pickle.load(open('./model_random_forest.pkl', 'rb')) # where the model is stored\n",
    "\n",
    "logger.info('Model loaded from file.')"
   ]
  },
  {
   "cell_type": "code",
   "execution_count": 76,
   "metadata": {},
   "outputs": [],
   "source": [
    "# Lambda Function\n",
    "\n",
    "# read JSON data packet containing S3 Bucket specs to access test dataset\n",
    "bucket = 'joaomj-lambda-buckets-2022'\n",
    "key = 'validation/df_test.joblib'\n",
    "percentage = 0.4\n",
    "\n",
    "# load test data from S3\n",
    "logger.info(f'Loading data from{bucket}/{key}')\n",
    "df_test_raw = DownloadFromS3(bucket, key)\n",
    "logger.info(f'Loaded {type(key)} from S3...')\n",
    "\n",
    "# ========================================\n",
    "# code from 'handler.py'\n",
    "\n",
    "\n",
    "# instantiate HealthInsurance class\n",
    "logger.info('Instantiating HealthInsurance class...')\n",
    "pipeline = HealthInsurance()\n",
    "logger.info('HealthInsurance class instantiated...')\n",
    "\n",
    "# data cleaning\n",
    "logger.info('Data cleaning...')\n",
    "df_test = df_test_raw.copy()\n",
    "df1 = pipeline.data_cleaning(df_test)\n",
    "\n",
    "# feature engineering\n",
    "logger.info('Feature engineering...')\n",
    "df2 = pipeline.feature_engineering(df1)\n",
    "\n",
    "# data preparation\n",
    "logger.info('Data preparation...')    \n",
    "df3 = pipeline.data_preparation(df2)\n",
    "\n",
    "# prediction\n",
    "logger.info('Making prediction...')\n",
    "prediction = pipeline.get_prediction(model, df3)\n",
    "\n",
    "# join prediction with original test data\n",
    "logger.info('Joining prediction with test data...')\n",
    "df_test_raw.rename(columns = {'response':'score'}, inplace = True)\n",
    "df_test_raw['score'] = prediction"
   ]
  },
  {
   "cell_type": "code",
   "execution_count": 81,
   "metadata": {},
   "outputs": [],
   "source": [
    "# use only the specified percentage of dataset\n",
    "import numpy as np\n",
    "\n",
    "df_test_raw.sort_values(by = 'score', ascending = False, inplace = True, ignore_index = True)\n",
    "a, b, c = np.split(df_test_raw, [int(percentage*len(df_test)), int((1-percentage)*len(df_test))])"
   ]
  },
  {
   "cell_type": "code",
   "execution_count": 78,
   "metadata": {},
   "outputs": [
    {
     "name": "stdout",
     "output_type": "stream",
     "text": [
      "The size is: 4.216194152832031 MB\n"
     ]
    }
   ],
   "source": [
    "# return json to be used by API\n",
    "logger.info('Preparing response as JSON file...')\n",
    "response = json.dumps(a.values.tolist(), separators=(',', ':')) # convert dataframe to list\n",
    "size_obj1 = len(response.encode('utf-8'))\n",
    "print('The size is: {} MB'.format(size_obj1/(1024*1024))) # size in megabytes"
   ]
  }
 ],
 "metadata": {
  "interpreter": {
   "hash": "a0dd1c37d6772565b5e1c394f17c75b28ab2ecda7f674e6a4f1dc13cbe97ea4f"
  },
  "kernelspec": {
   "display_name": "Python 3.10.0 64-bit ('venv-aws-deploy')",
   "language": "python",
   "name": "python3"
  },
  "language_info": {
   "codemirror_mode": {
    "name": "ipython",
    "version": 3
   },
   "file_extension": ".py",
   "mimetype": "text/x-python",
   "name": "python",
   "nbconvert_exporter": "python",
   "pygments_lexer": "ipython3",
   "version": "3.10.0"
  },
  "orig_nbformat": 4
 },
 "nbformat": 4,
 "nbformat_minor": 2
}
